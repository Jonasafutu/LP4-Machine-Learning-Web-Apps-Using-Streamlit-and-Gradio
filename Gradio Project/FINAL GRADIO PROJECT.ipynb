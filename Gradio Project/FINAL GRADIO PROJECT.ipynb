{
  "cells": [
    {
      "cell_type": "code",
      "execution_count": 1,
      "id": "ae79f2da",
      "metadata": {
        "colab": {
          "base_uri": "https://localhost:8080/"
        },
        "id": "ae79f2da",
        "outputId": "42843162-0b55-4284-c6cb-0058dcd41f55"
      },
      "outputs": [],
      "source": [
        "# !pip install gradio"
      ]
    },
    {
      "cell_type": "code",
      "execution_count": 2,
      "id": "8f418bd0",
      "metadata": {
        "colab": {
          "base_uri": "https://localhost:8080/"
        },
        "id": "8f418bd0",
        "outputId": "9476970e-88ac-4afa-f053-c203333160cf"
      },
      "outputs": [],
      "source": [
        "# !pip install xgboost"
      ]
    },
    {
      "cell_type": "code",
      "execution_count": 3,
      "id": "a2c5bfc8",
      "metadata": {
        "id": "a2c5bfc8"
      },
      "outputs": [
        {
          "name": "stderr",
          "output_type": "stream",
          "text": [
            "C:\\Users\\Jamal\\AppData\\Roaming\\Python\\Python311\\site-packages\\tqdm\\auto.py:21: TqdmWarning: IProgress not found. Please update jupyter and ipywidgets. See https://ipywidgets.readthedocs.io/en/stable/user_install.html\n",
            "  from .autonotebook import tqdm as notebook_tqdm\n"
          ]
        }
      ],
      "source": [
        "import gradio as gr\n",
        "\n",
        "import pandas as pd\n",
        "from sklearn.pipeline import Pipeline\n",
        "from sklearn.compose import ColumnTransformer\n",
        "from sklearn.preprocessing import StandardScaler, LabelEncoder, OneHotEncoder\n",
        "from sklearn.model_selection import train_test_split\n",
        "from xgboost import XGBClassifier"
      ]
    },
    {
      "cell_type": "code",
      "execution_count": 4,
      "id": "7ZdmBAR_seLj",
      "metadata": {
        "colab": {
          "base_uri": "https://localhost:8080/"
        },
        "id": "7ZdmBAR_seLj",
        "outputId": "7808d952-5058-47f0-a781-7f32f8d463a8"
      },
      "outputs": [],
      "source": [
        "# from google.colab import drive\n",
        "# drive.mount('/content/drive')"
      ]
    },
    {
      "cell_type": "code",
      "execution_count": 5,
      "id": "ba46a945",
      "metadata": {
        "id": "ba46a945"
      },
      "outputs": [],
      "source": [
        "import warnings\n",
        "warnings.filterwarnings(\"ignore\")"
      ]
    },
    {
      "cell_type": "code",
      "execution_count": 6,
      "id": "a00cea4e",
      "metadata": {
        "id": "a00cea4e"
      },
      "outputs": [],
      "source": [
        "from joblib import load"
      ]
    },
    {
      "cell_type": "code",
      "execution_count": 7,
      "id": "814cd368",
      "metadata": {
        "id": "814cd368"
      },
      "outputs": [],
      "source": [
        "# import our test to confirm if our model works correctly\n",
        "test = pd.read_csv('./X-test.csv')"
      ]
    },
    {
      "cell_type": "code",
      "execution_count": 8,
      "id": "s1oSh2eCl0jQ",
      "metadata": {
        "id": "s1oSh2eCl0jQ"
      },
      "outputs": [],
      "source": [
        "X_test = pd.read_csv('./X-test.csv')\n",
        "y_test = pd.read_csv('./y-test.csv')"
      ]
    },
    {
      "cell_type": "code",
      "execution_count": 9,
      "id": "Og1nTYrfl0oV",
      "metadata": {
        "id": "Og1nTYrfl0oV"
      },
      "outputs": [],
      "source": [
        "X_train = pd.read_csv('./X-train.csv')\n",
        "y_train = pd.read_csv('./y-train.csv')"
      ]
    },
    {
      "cell_type": "code",
      "execution_count": 10,
      "id": "rQCaxqGQtqMC",
      "metadata": {
        "id": "rQCaxqGQtqMC"
      },
      "outputs": [],
      "source": [
        "model = load('./FinalPipeline.pkl')"
      ]
    },
    {
      "cell_type": "code",
      "execution_count": 11,
      "id": "Nhly3ghTj3Qg",
      "metadata": {
        "colab": {
          "base_uri": "https://localhost:8080/"
        },
        "id": "Nhly3ghTj3Qg",
        "outputId": "2672e89c-1c18-48ac-dd3a-387efd494ab9"
      },
      "outputs": [
        {
          "data": {
            "text/plain": [
              "array([1, 0, 0, ..., 0, 0, 0])"
            ]
          },
          "execution_count": 11,
          "metadata": {},
          "output_type": "execute_result"
        }
      ],
      "source": [
        "# Load your dataframe\n",
        "df = pd.read_csv('./Telco-Customer-Churn.csv')\n",
        "\n",
        "# 1. Drop specified columns\n",
        "drop_columns = ['customerID', 'gender', 'PaymentMethod', 'StreamingMovies']\n",
        "df = df.drop(drop_columns, axis=1)\n",
        "\n",
        "# 2. Convert TotalCharges columns to numeric\n",
        "df['TotalCharges'] = pd.to_numeric(df['TotalCharges'], errors='coerce')\n",
        "\n",
        "# 3. Scale numeric columns\n",
        "numeric_features = ['SeniorCitizen', 'MonthlyCharges', 'TotalCharges']\n",
        "numeric_transformer = StandardScaler()\n",
        "\n",
        "# 4. Encode categorical columns\n",
        "categorical_features = ['Dependents', 'PhoneService', 'MultipleLines', 'InternetService',\n",
        "                        'OnlineSecurity', 'OnlineBackup', 'DeviceProtection',\n",
        "                        'TechSupport', 'StreamingTV', 'Contract', 'PaperlessBilling']\n",
        "categorical_transformer = OneHotEncoder(sparse=False)\n",
        "\n",
        "# 5. Encode the target column\n",
        "target_column = 'Churn'\n",
        "target_encoder = LabelEncoder()\n",
        "\n",
        "# 6. Split into X and y\n",
        "X = df.drop(target_column, axis=1)\n",
        "y = target_encoder.fit_transform(df[target_column])\n",
        "\n",
        "# 7. Create the pipeline\n",
        "preprocessor = ColumnTransformer(\n",
        "    transformers=[\n",
        "        ('num', numeric_transformer, numeric_features),\n",
        "        ('cat', categorical_transformer, categorical_features)\n",
        "    ])\n",
        "\n",
        "# 8. Split data\n",
        "\n",
        "\n",
        "pipeline = Pipeline([\n",
        "    ('preprocessor', preprocessor),\n",
        "    ('classifier', XGBClassifier())\n",
        "])\n",
        "\n",
        "# Split into train and test sets\n",
        "X_train, X_test, y_train, y_test = train_test_split(X, y, test_size=0.2, random_state=42)\n",
        "\n",
        "# Fit the pipeline and make predictions\n",
        "pipeline.fit(X_train, y_train)\n",
        "y_pred = pipeline.predict(X_test)\n",
        "\n",
        "y_pred"
      ]
    },
    {
      "cell_type": "code",
      "execution_count": 12,
      "id": "CVYHNUED8iXw",
      "metadata": {
        "id": "CVYHNUED8iXw"
      },
      "outputs": [],
      "source": [
        "df_ = pd.read_csv('./Telco-Customer-Churn.csv')\n",
        "\n",
        "drop_columns = ['customerID', 'gender', 'PaymentMethod', 'StreamingMovies', 'Churn']\n",
        "df_ = df_.drop(drop_columns, axis=1)"
      ]
    },
    {
      "cell_type": "code",
      "execution_count": 13,
      "id": "xMziy_qw_xtq",
      "metadata": {
        "id": "xMziy_qw_xtq"
      },
      "outputs": [],
      "source": [
        "df_['TotalCharges'] = pd.to_numeric(df_['TotalCharges'], errors='coerce')"
      ]
    },
    {
      "cell_type": "code",
      "execution_count": 14,
      "id": "oKqoAmA_9rSk",
      "metadata": {
        "colab": {
          "base_uri": "https://localhost:8080/"
        },
        "id": "oKqoAmA_9rSk",
        "outputId": "5d5ff6c1-c057-4988-eadd-5dcda415c826"
      },
      "outputs": [
        {
          "name": "stdout",
          "output_type": "stream",
          "text": [
            "<class 'pandas.core.frame.DataFrame'>\n",
            "RangeIndex: 7043 entries, 0 to 7042\n",
            "Data columns (total 16 columns):\n",
            " #   Column            Non-Null Count  Dtype  \n",
            "---  ------            --------------  -----  \n",
            " 0   SeniorCitizen     7043 non-null   int64  \n",
            " 1   Partner           7043 non-null   object \n",
            " 2   Dependents        7043 non-null   object \n",
            " 3   tenure            7043 non-null   int64  \n",
            " 4   PhoneService      7043 non-null   object \n",
            " 5   MultipleLines     7043 non-null   object \n",
            " 6   InternetService   7043 non-null   object \n",
            " 7   OnlineSecurity    7043 non-null   object \n",
            " 8   OnlineBackup      7043 non-null   object \n",
            " 9   DeviceProtection  7043 non-null   object \n",
            " 10  TechSupport       7043 non-null   object \n",
            " 11  StreamingTV       7043 non-null   object \n",
            " 12  Contract          7043 non-null   object \n",
            " 13  PaperlessBilling  7043 non-null   object \n",
            " 14  MonthlyCharges    7043 non-null   float64\n",
            " 15  TotalCharges      7032 non-null   float64\n",
            "dtypes: float64(2), int64(2), object(12)\n",
            "memory usage: 880.5+ KB\n"
          ]
        }
      ],
      "source": [
        "df_.info()"
      ]
    },
    {
      "cell_type": "code",
      "execution_count": 15,
      "id": "CxnaWEBgAo9i",
      "metadata": {
        "colab": {
          "base_uri": "https://localhost:8080/",
          "height": 113
        },
        "id": "CxnaWEBgAo9i",
        "outputId": "e7c23528-72b3-4071-f28f-c7ce6faf3031"
      },
      "outputs": [
        {
          "data": {
            "text/html": [
              "<div>\n",
              "<style scoped>\n",
              "    .dataframe tbody tr th:only-of-type {\n",
              "        vertical-align: middle;\n",
              "    }\n",
              "\n",
              "    .dataframe tbody tr th {\n",
              "        vertical-align: top;\n",
              "    }\n",
              "\n",
              "    .dataframe thead th {\n",
              "        text-align: right;\n",
              "    }\n",
              "</style>\n",
              "<table border=\"1\" class=\"dataframe\">\n",
              "  <thead>\n",
              "    <tr style=\"text-align: right;\">\n",
              "      <th></th>\n",
              "      <th>SeniorCitizen</th>\n",
              "      <th>Partner</th>\n",
              "      <th>Dependents</th>\n",
              "      <th>tenure</th>\n",
              "      <th>PhoneService</th>\n",
              "      <th>MultipleLines</th>\n",
              "      <th>InternetService</th>\n",
              "      <th>OnlineSecurity</th>\n",
              "      <th>OnlineBackup</th>\n",
              "      <th>DeviceProtection</th>\n",
              "      <th>TechSupport</th>\n",
              "      <th>StreamingTV</th>\n",
              "      <th>Contract</th>\n",
              "      <th>PaperlessBilling</th>\n",
              "      <th>MonthlyCharges</th>\n",
              "      <th>TotalCharges</th>\n",
              "    </tr>\n",
              "  </thead>\n",
              "  <tbody>\n",
              "  </tbody>\n",
              "</table>\n",
              "</div>"
            ],
            "text/plain": [
              "Empty DataFrame\n",
              "Columns: [SeniorCitizen, Partner, Dependents, tenure, PhoneService, MultipleLines, InternetService, OnlineSecurity, OnlineBackup, DeviceProtection, TechSupport, StreamingTV, Contract, PaperlessBilling, MonthlyCharges, TotalCharges]\n",
              "Index: []"
            ]
          },
          "execution_count": 15,
          "metadata": {},
          "output_type": "execute_result"
        }
      ],
      "source": [
        "X_test.head(0)"
      ]
    },
    {
      "cell_type": "code",
      "execution_count": 16,
      "id": "sUSQacGlAsNC",
      "metadata": {
        "colab": {
          "base_uri": "https://localhost:8080/",
          "height": 113
        },
        "id": "sUSQacGlAsNC",
        "outputId": "989582eb-30dc-4c2d-eb23-50963dfb9d70"
      },
      "outputs": [
        {
          "data": {
            "text/html": [
              "<div>\n",
              "<style scoped>\n",
              "    .dataframe tbody tr th:only-of-type {\n",
              "        vertical-align: middle;\n",
              "    }\n",
              "\n",
              "    .dataframe tbody tr th {\n",
              "        vertical-align: top;\n",
              "    }\n",
              "\n",
              "    .dataframe thead th {\n",
              "        text-align: right;\n",
              "    }\n",
              "</style>\n",
              "<table border=\"1\" class=\"dataframe\">\n",
              "  <thead>\n",
              "    <tr style=\"text-align: right;\">\n",
              "      <th></th>\n",
              "      <th>SeniorCitizen</th>\n",
              "      <th>Partner</th>\n",
              "      <th>Dependents</th>\n",
              "      <th>tenure</th>\n",
              "      <th>PhoneService</th>\n",
              "      <th>MultipleLines</th>\n",
              "      <th>InternetService</th>\n",
              "      <th>OnlineSecurity</th>\n",
              "      <th>OnlineBackup</th>\n",
              "      <th>DeviceProtection</th>\n",
              "      <th>TechSupport</th>\n",
              "      <th>StreamingTV</th>\n",
              "      <th>Contract</th>\n",
              "      <th>PaperlessBilling</th>\n",
              "      <th>MonthlyCharges</th>\n",
              "      <th>TotalCharges</th>\n",
              "    </tr>\n",
              "  </thead>\n",
              "  <tbody>\n",
              "  </tbody>\n",
              "</table>\n",
              "</div>"
            ],
            "text/plain": [
              "Empty DataFrame\n",
              "Columns: [SeniorCitizen, Partner, Dependents, tenure, PhoneService, MultipleLines, InternetService, OnlineSecurity, OnlineBackup, DeviceProtection, TechSupport, StreamingTV, Contract, PaperlessBilling, MonthlyCharges, TotalCharges]\n",
              "Index: []"
            ]
          },
          "execution_count": 16,
          "metadata": {},
          "output_type": "execute_result"
        }
      ],
      "source": [
        "df_.head(0)"
      ]
    },
    {
      "cell_type": "code",
      "execution_count": 17,
      "id": "pnppfzpf_pw9",
      "metadata": {
        "colab": {
          "base_uri": "https://localhost:8080/"
        },
        "id": "pnppfzpf_pw9",
        "outputId": "b4b6535a-0166-4101-dfbe-cfde4666bad1"
      },
      "outputs": [
        {
          "name": "stdout",
          "output_type": "stream",
          "text": [
            "<class 'pandas.core.frame.DataFrame'>\n",
            "Int64Index: 1409 entries, 185 to 1161\n",
            "Data columns (total 16 columns):\n",
            " #   Column            Non-Null Count  Dtype  \n",
            "---  ------            --------------  -----  \n",
            " 0   SeniorCitizen     1409 non-null   int64  \n",
            " 1   Partner           1409 non-null   object \n",
            " 2   Dependents        1409 non-null   object \n",
            " 3   tenure            1409 non-null   int64  \n",
            " 4   PhoneService      1409 non-null   object \n",
            " 5   MultipleLines     1409 non-null   object \n",
            " 6   InternetService   1409 non-null   object \n",
            " 7   OnlineSecurity    1409 non-null   object \n",
            " 8   OnlineBackup      1409 non-null   object \n",
            " 9   DeviceProtection  1409 non-null   object \n",
            " 10  TechSupport       1409 non-null   object \n",
            " 11  StreamingTV       1409 non-null   object \n",
            " 12  Contract          1409 non-null   object \n",
            " 13  PaperlessBilling  1409 non-null   object \n",
            " 14  MonthlyCharges    1409 non-null   float64\n",
            " 15  TotalCharges      1408 non-null   float64\n",
            "dtypes: float64(2), int64(2), object(12)\n",
            "memory usage: 187.1+ KB\n"
          ]
        }
      ],
      "source": [
        "X_test.info()"
      ]
    },
    {
      "cell_type": "code",
      "execution_count": 18,
      "id": "Cl_Ja_l--RHq",
      "metadata": {
        "colab": {
          "base_uri": "https://localhost:8080/"
        },
        "id": "Cl_Ja_l--RHq",
        "outputId": "0e647196-cfb3-4376-e16c-0b661fd19c9b"
      },
      "outputs": [
        {
          "data": {
            "text/plain": [
              "False"
            ]
          },
          "execution_count": 18,
          "metadata": {},
          "output_type": "execute_result"
        }
      ],
      "source": [
        "df_.isin(['Partner']).any().any()\n"
      ]
    },
    {
      "cell_type": "code",
      "execution_count": 19,
      "id": "RKDD8jzY897W",
      "metadata": {
        "id": "RKDD8jzY897W"
      },
      "outputs": [],
      "source": [
        "# pipeline.fit_transform(df_)"
      ]
    },
    {
      "cell_type": "code",
      "execution_count": 20,
      "id": "2dN8WoLT9LuT",
      "metadata": {
        "id": "2dN8WoLT9LuT"
      },
      "outputs": [],
      "source": [
        "y_pred2 = pipeline.predict(df_)"
      ]
    },
    {
      "cell_type": "code",
      "execution_count": 21,
      "id": "wETtsWirkDiD",
      "metadata": {
        "colab": {
          "base_uri": "https://localhost:8080/",
          "height": 194
        },
        "id": "wETtsWirkDiD",
        "outputId": "f093ffbf-0faf-4cc5-964e-672442ecb29c"
      },
      "outputs": [
        {
          "data": {
            "text/html": [
              "<style>#sk-container-id-1 {color: black;background-color: white;}#sk-container-id-1 pre{padding: 0;}#sk-container-id-1 div.sk-toggleable {background-color: white;}#sk-container-id-1 label.sk-toggleable__label {cursor: pointer;display: block;width: 100%;margin-bottom: 0;padding: 0.3em;box-sizing: border-box;text-align: center;}#sk-container-id-1 label.sk-toggleable__label-arrow:before {content: \"▸\";float: left;margin-right: 0.25em;color: #696969;}#sk-container-id-1 label.sk-toggleable__label-arrow:hover:before {color: black;}#sk-container-id-1 div.sk-estimator:hover label.sk-toggleable__label-arrow:before {color: black;}#sk-container-id-1 div.sk-toggleable__content {max-height: 0;max-width: 0;overflow: hidden;text-align: left;background-color: #f0f8ff;}#sk-container-id-1 div.sk-toggleable__content pre {margin: 0.2em;color: black;border-radius: 0.25em;background-color: #f0f8ff;}#sk-container-id-1 input.sk-toggleable__control:checked~div.sk-toggleable__content {max-height: 200px;max-width: 100%;overflow: auto;}#sk-container-id-1 input.sk-toggleable__control:checked~label.sk-toggleable__label-arrow:before {content: \"▾\";}#sk-container-id-1 div.sk-estimator input.sk-toggleable__control:checked~label.sk-toggleable__label {background-color: #d4ebff;}#sk-container-id-1 div.sk-label input.sk-toggleable__control:checked~label.sk-toggleable__label {background-color: #d4ebff;}#sk-container-id-1 input.sk-hidden--visually {border: 0;clip: rect(1px 1px 1px 1px);clip: rect(1px, 1px, 1px, 1px);height: 1px;margin: -1px;overflow: hidden;padding: 0;position: absolute;width: 1px;}#sk-container-id-1 div.sk-estimator {font-family: monospace;background-color: #f0f8ff;border: 1px dotted black;border-radius: 0.25em;box-sizing: border-box;margin-bottom: 0.5em;}#sk-container-id-1 div.sk-estimator:hover {background-color: #d4ebff;}#sk-container-id-1 div.sk-parallel-item::after {content: \"\";width: 100%;border-bottom: 1px solid gray;flex-grow: 1;}#sk-container-id-1 div.sk-label:hover label.sk-toggleable__label {background-color: #d4ebff;}#sk-container-id-1 div.sk-serial::before {content: \"\";position: absolute;border-left: 1px solid gray;box-sizing: border-box;top: 0;bottom: 0;left: 50%;z-index: 0;}#sk-container-id-1 div.sk-serial {display: flex;flex-direction: column;align-items: center;background-color: white;padding-right: 0.2em;padding-left: 0.2em;position: relative;}#sk-container-id-1 div.sk-item {position: relative;z-index: 1;}#sk-container-id-1 div.sk-parallel {display: flex;align-items: stretch;justify-content: center;background-color: white;position: relative;}#sk-container-id-1 div.sk-item::before, #sk-container-id-1 div.sk-parallel-item::before {content: \"\";position: absolute;border-left: 1px solid gray;box-sizing: border-box;top: 0;bottom: 0;left: 50%;z-index: -1;}#sk-container-id-1 div.sk-parallel-item {display: flex;flex-direction: column;z-index: 1;position: relative;background-color: white;}#sk-container-id-1 div.sk-parallel-item:first-child::after {align-self: flex-end;width: 50%;}#sk-container-id-1 div.sk-parallel-item:last-child::after {align-self: flex-start;width: 50%;}#sk-container-id-1 div.sk-parallel-item:only-child::after {width: 0;}#sk-container-id-1 div.sk-dashed-wrapped {border: 1px dashed gray;margin: 0 0.4em 0.5em 0.4em;box-sizing: border-box;padding-bottom: 0.4em;background-color: white;}#sk-container-id-1 div.sk-label label {font-family: monospace;font-weight: bold;display: inline-block;line-height: 1.2em;}#sk-container-id-1 div.sk-label-container {text-align: center;}#sk-container-id-1 div.sk-container {/* jupyter's `normalize.less` sets `[hidden] { display: none; }` but bootstrap.min.css set `[hidden] { display: none !important; }` so we also need the `!important` here to be able to override the default hidden behavior on the sphinx rendered scikit-learn.org. See: https://github.com/scikit-learn/scikit-learn/issues/21755 */display: inline-block !important;position: relative;}#sk-container-id-1 div.sk-text-repr-fallback {display: none;}</style><div id=\"sk-container-id-1\" class=\"sk-top-container\"><div class=\"sk-text-repr-fallback\"><pre>Pipeline(steps=[(&#x27;preprocessor&#x27;,\n",
              "                 ColumnTransformer(transformers=[(&#x27;num&#x27;, StandardScaler(),\n",
              "                                                  [&#x27;SeniorCitizen&#x27;,\n",
              "                                                   &#x27;MonthlyCharges&#x27;,\n",
              "                                                   &#x27;TotalCharges&#x27;]),\n",
              "                                                 (&#x27;cat&#x27;,\n",
              "                                                  OneHotEncoder(sparse=False),\n",
              "                                                  [&#x27;Dependents&#x27;, &#x27;PhoneService&#x27;,\n",
              "                                                   &#x27;MultipleLines&#x27;,\n",
              "                                                   &#x27;InternetService&#x27;,\n",
              "                                                   &#x27;OnlineSecurity&#x27;,\n",
              "                                                   &#x27;OnlineBackup&#x27;,\n",
              "                                                   &#x27;DeviceProtection&#x27;,\n",
              "                                                   &#x27;TechSupport&#x27;, &#x27;StreamingTV&#x27;,\n",
              "                                                   &#x27;Contract&#x27;,\n",
              "                                                   &#x27;PaperlessBilling&#x27;])]))...\n",
              "                               feature_types=None, gamma=None, gpu_id=None,\n",
              "                               grow_policy=None, importance_type=None,\n",
              "                               interaction_constraints=None, learning_rate=None,\n",
              "                               max_bin=None, max_cat_threshold=None,\n",
              "                               max_cat_to_onehot=None, max_delta_step=None,\n",
              "                               max_depth=None, max_leaves=None,\n",
              "                               min_child_weight=None, missing=nan,\n",
              "                               monotone_constraints=None, n_estimators=100,\n",
              "                               n_jobs=None, num_parallel_tree=None,\n",
              "                               predictor=None, random_state=None, ...))])</pre><b>In a Jupyter environment, please rerun this cell to show the HTML representation or trust the notebook. <br />On GitHub, the HTML representation is unable to render, please try loading this page with nbviewer.org.</b></div><div class=\"sk-container\" hidden><div class=\"sk-item sk-dashed-wrapped\"><div class=\"sk-label-container\"><div class=\"sk-label sk-toggleable\"><input class=\"sk-toggleable__control sk-hidden--visually\" id=\"sk-estimator-id-1\" type=\"checkbox\" ><label for=\"sk-estimator-id-1\" class=\"sk-toggleable__label sk-toggleable__label-arrow\">Pipeline</label><div class=\"sk-toggleable__content\"><pre>Pipeline(steps=[(&#x27;preprocessor&#x27;,\n",
              "                 ColumnTransformer(transformers=[(&#x27;num&#x27;, StandardScaler(),\n",
              "                                                  [&#x27;SeniorCitizen&#x27;,\n",
              "                                                   &#x27;MonthlyCharges&#x27;,\n",
              "                                                   &#x27;TotalCharges&#x27;]),\n",
              "                                                 (&#x27;cat&#x27;,\n",
              "                                                  OneHotEncoder(sparse=False),\n",
              "                                                  [&#x27;Dependents&#x27;, &#x27;PhoneService&#x27;,\n",
              "                                                   &#x27;MultipleLines&#x27;,\n",
              "                                                   &#x27;InternetService&#x27;,\n",
              "                                                   &#x27;OnlineSecurity&#x27;,\n",
              "                                                   &#x27;OnlineBackup&#x27;,\n",
              "                                                   &#x27;DeviceProtection&#x27;,\n",
              "                                                   &#x27;TechSupport&#x27;, &#x27;StreamingTV&#x27;,\n",
              "                                                   &#x27;Contract&#x27;,\n",
              "                                                   &#x27;PaperlessBilling&#x27;])]))...\n",
              "                               feature_types=None, gamma=None, gpu_id=None,\n",
              "                               grow_policy=None, importance_type=None,\n",
              "                               interaction_constraints=None, learning_rate=None,\n",
              "                               max_bin=None, max_cat_threshold=None,\n",
              "                               max_cat_to_onehot=None, max_delta_step=None,\n",
              "                               max_depth=None, max_leaves=None,\n",
              "                               min_child_weight=None, missing=nan,\n",
              "                               monotone_constraints=None, n_estimators=100,\n",
              "                               n_jobs=None, num_parallel_tree=None,\n",
              "                               predictor=None, random_state=None, ...))])</pre></div></div></div><div class=\"sk-serial\"><div class=\"sk-item sk-dashed-wrapped\"><div class=\"sk-label-container\"><div class=\"sk-label sk-toggleable\"><input class=\"sk-toggleable__control sk-hidden--visually\" id=\"sk-estimator-id-2\" type=\"checkbox\" ><label for=\"sk-estimator-id-2\" class=\"sk-toggleable__label sk-toggleable__label-arrow\">preprocessor: ColumnTransformer</label><div class=\"sk-toggleable__content\"><pre>ColumnTransformer(transformers=[(&#x27;num&#x27;, StandardScaler(),\n",
              "                                 [&#x27;SeniorCitizen&#x27;, &#x27;MonthlyCharges&#x27;,\n",
              "                                  &#x27;TotalCharges&#x27;]),\n",
              "                                (&#x27;cat&#x27;, OneHotEncoder(sparse=False),\n",
              "                                 [&#x27;Dependents&#x27;, &#x27;PhoneService&#x27;, &#x27;MultipleLines&#x27;,\n",
              "                                  &#x27;InternetService&#x27;, &#x27;OnlineSecurity&#x27;,\n",
              "                                  &#x27;OnlineBackup&#x27;, &#x27;DeviceProtection&#x27;,\n",
              "                                  &#x27;TechSupport&#x27;, &#x27;StreamingTV&#x27;, &#x27;Contract&#x27;,\n",
              "                                  &#x27;PaperlessBilling&#x27;])])</pre></div></div></div><div class=\"sk-parallel\"><div class=\"sk-parallel-item\"><div class=\"sk-item\"><div class=\"sk-label-container\"><div class=\"sk-label sk-toggleable\"><input class=\"sk-toggleable__control sk-hidden--visually\" id=\"sk-estimator-id-3\" type=\"checkbox\" ><label for=\"sk-estimator-id-3\" class=\"sk-toggleable__label sk-toggleable__label-arrow\">num</label><div class=\"sk-toggleable__content\"><pre>[&#x27;SeniorCitizen&#x27;, &#x27;MonthlyCharges&#x27;, &#x27;TotalCharges&#x27;]</pre></div></div></div><div class=\"sk-serial\"><div class=\"sk-item\"><div class=\"sk-estimator sk-toggleable\"><input class=\"sk-toggleable__control sk-hidden--visually\" id=\"sk-estimator-id-4\" type=\"checkbox\" ><label for=\"sk-estimator-id-4\" class=\"sk-toggleable__label sk-toggleable__label-arrow\">StandardScaler</label><div class=\"sk-toggleable__content\"><pre>StandardScaler()</pre></div></div></div></div></div></div><div class=\"sk-parallel-item\"><div class=\"sk-item\"><div class=\"sk-label-container\"><div class=\"sk-label sk-toggleable\"><input class=\"sk-toggleable__control sk-hidden--visually\" id=\"sk-estimator-id-5\" type=\"checkbox\" ><label for=\"sk-estimator-id-5\" class=\"sk-toggleable__label sk-toggleable__label-arrow\">cat</label><div class=\"sk-toggleable__content\"><pre>[&#x27;Dependents&#x27;, &#x27;PhoneService&#x27;, &#x27;MultipleLines&#x27;, &#x27;InternetService&#x27;, &#x27;OnlineSecurity&#x27;, &#x27;OnlineBackup&#x27;, &#x27;DeviceProtection&#x27;, &#x27;TechSupport&#x27;, &#x27;StreamingTV&#x27;, &#x27;Contract&#x27;, &#x27;PaperlessBilling&#x27;]</pre></div></div></div><div class=\"sk-serial\"><div class=\"sk-item\"><div class=\"sk-estimator sk-toggleable\"><input class=\"sk-toggleable__control sk-hidden--visually\" id=\"sk-estimator-id-6\" type=\"checkbox\" ><label for=\"sk-estimator-id-6\" class=\"sk-toggleable__label sk-toggleable__label-arrow\">OneHotEncoder</label><div class=\"sk-toggleable__content\"><pre>OneHotEncoder(sparse=False)</pre></div></div></div></div></div></div></div></div><div class=\"sk-item\"><div class=\"sk-estimator sk-toggleable\"><input class=\"sk-toggleable__control sk-hidden--visually\" id=\"sk-estimator-id-7\" type=\"checkbox\" ><label for=\"sk-estimator-id-7\" class=\"sk-toggleable__label sk-toggleable__label-arrow\">XGBClassifier</label><div class=\"sk-toggleable__content\"><pre>XGBClassifier(base_score=None, booster=None, callbacks=None,\n",
              "              colsample_bylevel=None, colsample_bynode=None,\n",
              "              colsample_bytree=None, early_stopping_rounds=None,\n",
              "              enable_categorical=False, eval_metric=None, feature_types=None,\n",
              "              gamma=None, gpu_id=None, grow_policy=None, importance_type=None,\n",
              "              interaction_constraints=None, learning_rate=None, max_bin=None,\n",
              "              max_cat_threshold=None, max_cat_to_onehot=None,\n",
              "              max_delta_step=None, max_depth=None, max_leaves=None,\n",
              "              min_child_weight=None, missing=nan, monotone_constraints=None,\n",
              "              n_estimators=100, n_jobs=None, num_parallel_tree=None,\n",
              "              predictor=None, random_state=None, ...)</pre></div></div></div></div></div></div></div>"
            ],
            "text/plain": [
              "Pipeline(steps=[('preprocessor',\n",
              "                 ColumnTransformer(transformers=[('num', StandardScaler(),\n",
              "                                                  ['SeniorCitizen',\n",
              "                                                   'MonthlyCharges',\n",
              "                                                   'TotalCharges']),\n",
              "                                                 ('cat',\n",
              "                                                  OneHotEncoder(sparse=False),\n",
              "                                                  ['Dependents', 'PhoneService',\n",
              "                                                   'MultipleLines',\n",
              "                                                   'InternetService',\n",
              "                                                   'OnlineSecurity',\n",
              "                                                   'OnlineBackup',\n",
              "                                                   'DeviceProtection',\n",
              "                                                   'TechSupport', 'StreamingTV',\n",
              "                                                   'Contract',\n",
              "                                                   'PaperlessBilling'])]))...\n",
              "                               feature_types=None, gamma=None, gpu_id=None,\n",
              "                               grow_policy=None, importance_type=None,\n",
              "                               interaction_constraints=None, learning_rate=None,\n",
              "                               max_bin=None, max_cat_threshold=None,\n",
              "                               max_cat_to_onehot=None, max_delta_step=None,\n",
              "                               max_depth=None, max_leaves=None,\n",
              "                               min_child_weight=None, missing=nan,\n",
              "                               monotone_constraints=None, n_estimators=100,\n",
              "                               n_jobs=None, num_parallel_tree=None,\n",
              "                               predictor=None, random_state=None, ...))])"
            ]
          },
          "execution_count": 21,
          "metadata": {},
          "output_type": "execute_result"
        }
      ],
      "source": [
        "pipeline"
      ]
    },
    {
      "cell_type": "code",
      "execution_count": 22,
      "id": "KAEMKY2ncuve",
      "metadata": {
        "id": "KAEMKY2ncuve"
      },
      "outputs": [],
      "source": [
        "model2 = pipeline.fit(X_train, y_train)"
      ]
    },
    {
      "cell_type": "code",
      "execution_count": 23,
      "id": "FMQUgABThK1v",
      "metadata": {
        "colab": {
          "base_uri": "https://localhost:8080/"
        },
        "id": "FMQUgABThK1v",
        "outputId": "25595422-d881-483e-bcad-793627c7310f"
      },
      "outputs": [
        {
          "data": {
            "text/plain": [
              "array([1, 0, 0, ..., 0, 0, 0])"
            ]
          },
          "execution_count": 23,
          "metadata": {},
          "output_type": "execute_result"
        }
      ],
      "source": [
        "model2.predict(X_test)"
      ]
    },
    {
      "attachments": {},
      "cell_type": "markdown",
      "id": "Ewy6OqBSoGEb",
      "metadata": {
        "id": "Ewy6OqBSoGEb"
      },
      "source": [
        "# **GRADIO BUILD**"
      ]
    },
    {
      "cell_type": "code",
      "execution_count": 32,
      "id": "lD_BNLdJoFRE",
      "metadata": {
        "id": "lD_BNLdJoFRE"
      },
      "outputs": [],
      "source": [
        "# since the output is a 0 or a 1 , we will have a classifier function to\n",
        "def classifier_1(result):\n",
        "    if result== 0:\n",
        "        return \"Customer will churn\"\n",
        "    else:\n",
        "        return \"Customer will not churn\""
      ]
    },
    {
      "cell_type": "code",
      "execution_count": 33,
      "id": "f98UnsYNbLi0",
      "metadata": {
        "colab": {
          "base_uri": "https://localhost:8080/"
        },
        "id": "f98UnsYNbLi0",
        "outputId": "74bf922d-d0d6-4771-d724-a9351082aedb"
      },
      "outputs": [
        {
          "name": "stdout",
          "output_type": "stream",
          "text": [
            "SeniorCitizen\n",
            "Partner\n",
            "Dependents\n",
            "tenure\n",
            "PhoneService\n",
            "MultipleLines\n",
            "InternetService\n",
            "OnlineSecurity\n",
            "OnlineBackup\n",
            "DeviceProtection\n",
            "TechSupport\n",
            "StreamingTV\n",
            "Contract\n",
            "PaperlessBilling\n",
            "MonthlyCharges\n",
            "TotalCharges\n"
          ]
        }
      ],
      "source": [
        "# Get the inputs our model will accept\n",
        "\n",
        "for column in X_test.columns:\n",
        "  print (column)"
      ]
    },
    {
      "cell_type": "code",
      "execution_count": 34,
      "id": "DlgjICTdlYzs",
      "metadata": {
        "colab": {
          "base_uri": "https://localhost:8080/"
        },
        "id": "DlgjICTdlYzs",
        "outputId": "9a53c575-9f90-42b0-fd3a-f02f43c1e528"
      },
      "outputs": [
        {
          "data": {
            "text/plain": [
              "Index(['SeniorCitizen', 'Partner', 'Dependents', 'tenure', 'PhoneService',\n",
              "       'MultipleLines', 'InternetService', 'OnlineSecurity', 'OnlineBackup',\n",
              "       'DeviceProtection', 'TechSupport', 'StreamingTV', 'Contract',\n",
              "       'PaperlessBilling', 'MonthlyCharges', 'TotalCharges'],\n",
              "      dtype='object')"
            ]
          },
          "execution_count": 34,
          "metadata": {},
          "output_type": "execute_result"
        }
      ],
      "source": [
        "X_test.columns"
      ]
    },
    {
      "cell_type": "code",
      "execution_count": 35,
      "id": "hblg8vwocFTt",
      "metadata": {
        "id": "hblg8vwocFTt"
      },
      "outputs": [],
      "source": [
        "# Take in user inputs\n",
        "def main_function(SeniorCitizen, Partner, Dependents, tenure, PhoneService, MultipleLines, InternetService, OnlineSecurity, OnlineBackup, DeviceProtection, TechSupport, StreamingTV, Contract, PaperlessBilling, MonthlyCharges, TotalCharges):\n",
        "    inputs = [SeniorCitizen, Partner, Dependents, tenure, PhoneService, MultipleLines, InternetService, OnlineSecurity, OnlineBackup, DeviceProtection, TechSupport, StreamingTV, Contract, PaperlessBilling, MonthlyCharges, TotalCharges]\n",
        "\n",
        "    input_df = pd.DataFrame([inputs], columns=['SeniorCitizen', 'Partner', 'Dependents', 'tenure', 'PhoneService', 'MultipleLines', 'InternetService', 'OnlineSecurity', 'OnlineBackup', 'DeviceProtection', 'TechSupport', 'StreamingTV', 'Contract', 'PaperlessBilling', 'MonthlyCharges', 'TotalCharges'])\n",
        "\n",
        "    model22 = pipeline.fit(X_train, y_train)\n",
        "    pred = model22.predict(input_df)\n",
        "\n",
        "    output = classifier_1(pred[0])\n",
        "\n",
        "    if output == \"Customer will churn\":\n",
        "        return [(0, output)]\n",
        "    else:\n",
        "        return [(1, output)]\n",
        "\n",
        "# Define your outputs\n",
        "output = gr.outputs.HighlightedText(color_map={\n",
        "    \"Customer will churn\": \"green\",\n",
        "    \"Customer will not churn\": \"red\"\n",
        "})\n",
        "\n"
      ]
    },
    {
      "cell_type": "code",
      "execution_count": 36,
      "id": "IqFJA3gGv1Wg",
      "metadata": {
        "colab": {
          "base_uri": "https://localhost:8080/"
        },
        "id": "IqFJA3gGv1Wg",
        "outputId": "42789d92-fa99-4bdc-ede6-cccb884af350"
      },
      "outputs": [
        {
          "data": {
            "text/plain": [
              "(18.9, 8672.45)"
            ]
          },
          "execution_count": 36,
          "metadata": {},
          "output_type": "execute_result"
        }
      ],
      "source": [
        "X_test['TotalCharges'].min() , X_test['TotalCharges'].max()"
      ]
    },
    {
      "cell_type": "code",
      "execution_count": 29,
      "id": "90e-jgFgzfQv",
      "metadata": {
        "id": "90e-jgFgzfQv"
      },
      "outputs": [],
      "source": [
        "# X_test[\"\"].value_counts()"
      ]
    },
    {
      "cell_type": "code",
      "execution_count": null,
      "id": "syY3ug8RjG7Q",
      "metadata": {
        "id": "syY3ug8RjG7Q"
      },
      "outputs": [],
      "source": []
    },
    {
      "cell_type": "code",
      "execution_count": 37,
      "id": "nzt5agcVogTO",
      "metadata": {
        "colab": {
          "base_uri": "https://localhost:8080/",
          "height": 616
        },
        "id": "nzt5agcVogTO",
        "outputId": "5a3ff293-29fd-4819-d2dc-5695722f6e81"
      },
      "outputs": [
        {
          "name": "stdout",
          "output_type": "stream",
          "text": [
            "Running on local URL:  http://127.0.0.1:7861\n",
            "\n",
            "To create a public link, set `share=True` in `launch()`.\n"
          ]
        },
        {
          "data": {
            "text/html": [
              "<div><iframe src=\"http://127.0.0.1:7861/\" width=\"100%\" height=\"500\" allow=\"autoplay; camera; microphone; clipboard-read; clipboard-write;\" frameborder=\"0\" allowfullscreen></iframe></div>"
            ],
            "text/plain": [
              "<IPython.core.display.HTML object>"
            ]
          },
          "metadata": {},
          "output_type": "display_data"
        },
        {
          "data": {
            "text/plain": []
          },
          "execution_count": 37,
          "metadata": {},
          "output_type": "execute_result"
        }
      ],
      "source": [
        "# Create the Gradio interface\n",
        "interface = gr.Interface(\n",
        "    fn=main_function,\n",
        "    inputs=[\n",
        "        gr.inputs.Dropdown([0, 1], label=\"Is the customer a senior citizen? Select 1 for YES and 0 for NO\"),\n",
        "        gr.inputs.Dropdown(['No', 'Yes'], label='Partner'),\n",
        "        gr.inputs.Dropdown(['No', 'Yes'], label='Dependents'),\n",
        "        gr.inputs.Slider(label=\"Tenure: How long have you been using Vodafone?\"),\n",
        "        gr.inputs.Dropdown(['No', 'Yes'], label='Phone Service'),\n",
        "        gr.inputs.Radio(['Yes', 'No', 'No Phone service'], label=\"Multiple Lines\"),\n",
        "        gr.inputs.Dropdown(['DSL', 'Fiber optic', 'No'], label='Internet Service'),\n",
        "        gr.inputs.Radio(['Yes', 'No', 'No Online Security'], label=\"Online Security\"),\n",
        "        gr.inputs.Radio(['Yes', 'No', 'Online Backup'], label=\"Online Backup\"),\n",
        "        gr.inputs.Radio(['Yes', 'No', 'No Device Protection'], label=\"Device Protection\"),\n",
        "        gr.inputs.Radio(['Yes', 'No', 'Tech Support'], label=\"Tech Support\"),\n",
        "        gr.inputs.Radio(['Yes', 'No', 'No TV streaming'], label=\"TV Streaming\"),\n",
        "        gr.inputs.Dropdown(['Month-to-month', 'One year', 'Two year'], label='Contract'),\n",
        "        gr.inputs.Dropdown(['No', 'Yes'], label='Paperless Billing'),\n",
        "        gr.inputs.Slider(minimum=18, maximum=120, label=\"Monthly Charges\"),\n",
        "        gr.inputs.Slider(minimum=18, maximum=8675, label=\"Total Charges\")\n",
        "    ],\n",
        "    outputs= output,\n",
        "    title=\"Team Paris Customer Churn Prediction App\",\n",
        "    description=\"Let's Get Started With Some Predictions!\"\n",
        ")\n",
        "\n",
        "interface.launch()\n",
        "\n"
      ]
    },
    {
      "cell_type": "code",
      "execution_count": null,
      "id": "11T2wE_3vzBJ",
      "metadata": {
        "id": "11T2wE_3vzBJ"
      },
      "outputs": [],
      "source": []
    },
    {
      "cell_type": "code",
      "execution_count": 38,
      "id": "hNCzcqE61ogJ",
      "metadata": {
        "colab": {
          "base_uri": "https://localhost:8080/",
          "height": 340
        },
        "id": "hNCzcqE61ogJ",
        "outputId": "a9effc81-3d3b-4383-9961-64e0bd6d113a"
      },
      "outputs": [
        {
          "data": {
            "text/html": [
              "<div>\n",
              "<style scoped>\n",
              "    .dataframe tbody tr th:only-of-type {\n",
              "        vertical-align: middle;\n",
              "    }\n",
              "\n",
              "    .dataframe tbody tr th {\n",
              "        vertical-align: top;\n",
              "    }\n",
              "\n",
              "    .dataframe thead th {\n",
              "        text-align: right;\n",
              "    }\n",
              "</style>\n",
              "<table border=\"1\" class=\"dataframe\">\n",
              "  <thead>\n",
              "    <tr style=\"text-align: right;\">\n",
              "      <th></th>\n",
              "      <th>SeniorCitizen</th>\n",
              "      <th>Partner</th>\n",
              "      <th>Dependents</th>\n",
              "      <th>tenure</th>\n",
              "      <th>PhoneService</th>\n",
              "      <th>MultipleLines</th>\n",
              "      <th>InternetService</th>\n",
              "      <th>OnlineSecurity</th>\n",
              "      <th>OnlineBackup</th>\n",
              "      <th>DeviceProtection</th>\n",
              "      <th>TechSupport</th>\n",
              "      <th>StreamingTV</th>\n",
              "      <th>Contract</th>\n",
              "      <th>PaperlessBilling</th>\n",
              "      <th>MonthlyCharges</th>\n",
              "      <th>TotalCharges</th>\n",
              "    </tr>\n",
              "  </thead>\n",
              "  <tbody>\n",
              "    <tr>\n",
              "      <th>185</th>\n",
              "      <td>0</td>\n",
              "      <td>Yes</td>\n",
              "      <td>No</td>\n",
              "      <td>1</td>\n",
              "      <td>No</td>\n",
              "      <td>No phone service</td>\n",
              "      <td>DSL</td>\n",
              "      <td>No</td>\n",
              "      <td>No</td>\n",
              "      <td>No</td>\n",
              "      <td>No</td>\n",
              "      <td>No</td>\n",
              "      <td>Month-to-month</td>\n",
              "      <td>Yes</td>\n",
              "      <td>24.80</td>\n",
              "      <td>24.80</td>\n",
              "    </tr>\n",
              "    <tr>\n",
              "      <th>2715</th>\n",
              "      <td>0</td>\n",
              "      <td>No</td>\n",
              "      <td>No</td>\n",
              "      <td>41</td>\n",
              "      <td>Yes</td>\n",
              "      <td>Yes</td>\n",
              "      <td>No</td>\n",
              "      <td>No internet service</td>\n",
              "      <td>No internet service</td>\n",
              "      <td>No internet service</td>\n",
              "      <td>No internet service</td>\n",
              "      <td>No internet service</td>\n",
              "      <td>Month-to-month</td>\n",
              "      <td>Yes</td>\n",
              "      <td>25.25</td>\n",
              "      <td>996.45</td>\n",
              "    </tr>\n",
              "    <tr>\n",
              "      <th>3825</th>\n",
              "      <td>0</td>\n",
              "      <td>Yes</td>\n",
              "      <td>Yes</td>\n",
              "      <td>52</td>\n",
              "      <td>Yes</td>\n",
              "      <td>No</td>\n",
              "      <td>No</td>\n",
              "      <td>No internet service</td>\n",
              "      <td>No internet service</td>\n",
              "      <td>No internet service</td>\n",
              "      <td>No internet service</td>\n",
              "      <td>No internet service</td>\n",
              "      <td>Two year</td>\n",
              "      <td>No</td>\n",
              "      <td>19.35</td>\n",
              "      <td>1031.70</td>\n",
              "    </tr>\n",
              "    <tr>\n",
              "      <th>1807</th>\n",
              "      <td>0</td>\n",
              "      <td>No</td>\n",
              "      <td>No</td>\n",
              "      <td>1</td>\n",
              "      <td>Yes</td>\n",
              "      <td>No</td>\n",
              "      <td>Fiber optic</td>\n",
              "      <td>No</td>\n",
              "      <td>No</td>\n",
              "      <td>Yes</td>\n",
              "      <td>No</td>\n",
              "      <td>No</td>\n",
              "      <td>Month-to-month</td>\n",
              "      <td>No</td>\n",
              "      <td>76.35</td>\n",
              "      <td>76.35</td>\n",
              "    </tr>\n",
              "    <tr>\n",
              "      <th>132</th>\n",
              "      <td>0</td>\n",
              "      <td>No</td>\n",
              "      <td>No</td>\n",
              "      <td>67</td>\n",
              "      <td>Yes</td>\n",
              "      <td>No</td>\n",
              "      <td>DSL</td>\n",
              "      <td>No</td>\n",
              "      <td>No</td>\n",
              "      <td>No</td>\n",
              "      <td>Yes</td>\n",
              "      <td>No</td>\n",
              "      <td>Two year</td>\n",
              "      <td>No</td>\n",
              "      <td>50.55</td>\n",
              "      <td>3260.10</td>\n",
              "    </tr>\n",
              "  </tbody>\n",
              "</table>\n",
              "</div>"
            ],
            "text/plain": [
              "      SeniorCitizen Partner Dependents  tenure PhoneService     MultipleLines  \\\n",
              "185               0     Yes         No       1           No  No phone service   \n",
              "2715              0      No         No      41          Yes               Yes   \n",
              "3825              0     Yes        Yes      52          Yes                No   \n",
              "1807              0      No         No       1          Yes                No   \n",
              "132               0      No         No      67          Yes                No   \n",
              "\n",
              "     InternetService       OnlineSecurity         OnlineBackup  \\\n",
              "185              DSL                   No                   No   \n",
              "2715              No  No internet service  No internet service   \n",
              "3825              No  No internet service  No internet service   \n",
              "1807     Fiber optic                   No                   No   \n",
              "132              DSL                   No                   No   \n",
              "\n",
              "         DeviceProtection          TechSupport          StreamingTV  \\\n",
              "185                    No                   No                   No   \n",
              "2715  No internet service  No internet service  No internet service   \n",
              "3825  No internet service  No internet service  No internet service   \n",
              "1807                  Yes                   No                   No   \n",
              "132                    No                  Yes                   No   \n",
              "\n",
              "            Contract PaperlessBilling  MonthlyCharges  TotalCharges  \n",
              "185   Month-to-month              Yes           24.80         24.80  \n",
              "2715  Month-to-month              Yes           25.25        996.45  \n",
              "3825        Two year               No           19.35       1031.70  \n",
              "1807  Month-to-month               No           76.35         76.35  \n",
              "132         Two year               No           50.55       3260.10  "
            ]
          },
          "execution_count": 38,
          "metadata": {},
          "output_type": "execute_result"
        }
      ],
      "source": [
        "X_test.head()"
      ]
    },
    {
      "cell_type": "code",
      "execution_count": null,
      "id": "tYdhd53f7h5g",
      "metadata": {
        "colab": {
          "base_uri": "https://localhost:8080/",
          "height": 616
        },
        "id": "tYdhd53f7h5g",
        "outputId": "6f2dce5c-a153-4bab-ccb8-a53570de4bff"
      },
      "outputs": [],
      "source": []
    },
    {
      "cell_type": "code",
      "execution_count": null,
      "id": "noWOlJjAtmO6",
      "metadata": {
        "id": "noWOlJjAtmO6"
      },
      "outputs": [],
      "source": []
    }
  ],
  "metadata": {
    "colab": {
      "provenance": []
    },
    "kernelspec": {
      "display_name": "Python 3 (ipykernel)",
      "language": "python",
      "name": "python3"
    },
    "language_info": {
      "codemirror_mode": {
        "name": "ipython",
        "version": 3
      },
      "file_extension": ".py",
      "mimetype": "text/x-python",
      "name": "python",
      "nbconvert_exporter": "python",
      "pygments_lexer": "ipython3",
      "version": "3.11.2"
    }
  },
  "nbformat": 4,
  "nbformat_minor": 5
}
