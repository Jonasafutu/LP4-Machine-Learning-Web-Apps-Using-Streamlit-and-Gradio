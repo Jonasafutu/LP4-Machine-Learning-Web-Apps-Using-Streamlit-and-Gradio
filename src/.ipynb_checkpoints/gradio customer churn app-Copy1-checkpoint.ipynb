{
 "cells": [
  {
   "cell_type": "code",
   "execution_count": 1,
   "id": "3771b85a-3185-4da9-a9e3-9c2672623e37",
   "metadata": {},
   "outputs": [
    {
     "name": "stderr",
     "output_type": "stream",
     "text": [
      "C:\\Users\\DEVICES\\anaconda3\\lib\\site-packages\\gradio\\inputs.py:219: UserWarning: Usage of gradio.inputs is deprecated, and will not be supported in the future, please import your component from gradio.components\n",
      "  warnings.warn(\n",
      "C:\\Users\\DEVICES\\anaconda3\\lib\\site-packages\\gradio\\inputs.py:222: UserWarning: `optional` parameter is deprecated, and it has no effect\n",
      "  super().__init__(\n",
      "C:\\Users\\DEVICES\\anaconda3\\lib\\site-packages\\gradio\\inputs.py:185: UserWarning: Usage of gradio.inputs is deprecated, and will not be supported in the future, please import your component from gradio.components\n",
      "  warnings.warn(\n",
      "C:\\Users\\DEVICES\\anaconda3\\lib\\site-packages\\gradio\\inputs.py:188: UserWarning: `optional` parameter is deprecated, and it has no effect\n",
      "  super().__init__(\n",
      "C:\\Users\\DEVICES\\anaconda3\\lib\\site-packages\\gradio\\outputs.py:197: UserWarning: Usage of gradio.outputs is deprecated, and will not be supported in the future, please import your components from gradio.components\n",
      "  warnings.warn(\n",
      "C:\\Users\\DEVICES\\anaconda3\\lib\\site-packages\\gradio\\outputs.py:200: UserWarning: The 'type' parameter has been deprecated. Use the Number component instead.\n",
      "  super().__init__(num_top_classes=num_top_classes, type=type, label=label)\n"
     ]
    },
    {
     "name": "stdout",
     "output_type": "stream",
     "text": [
      "Running on local URL:  http://127.0.0.1:7860\n",
      "\n",
      "Could not create share link. Please check your internet connection or our status page: https://status.gradio.app. \n",
      "\n",
      "Also please ensure that your antivirus or firewall is not blocking the binary file located at: C:\\Users\\DEVICES\\anaconda3\\lib\\site-packages\\gradio\\frpc_windows_amd64_v0.2\n"
     ]
    },
    {
     "data": {
      "text/html": [
       "<div><iframe src=\"http://127.0.0.1:7860/\" width=\"100%\" height=\"500\" allow=\"autoplay; camera; microphone; clipboard-read; clipboard-write;\" frameborder=\"0\" allowfullscreen></iframe></div>"
      ],
      "text/plain": [
       "<IPython.core.display.HTML object>"
      ]
     },
     "metadata": {},
     "output_type": "display_data"
    },
    {
     "data": {
      "text/plain": []
     },
     "execution_count": 1,
     "metadata": {},
     "output_type": "execute_result"
    }
   ],
   "source": [
    "import gradio as gr\n",
    "\n",
    "def predict_churn(gender, Contract, InternetService, MonthlyCharges, OnlineSecurity, OnlineBackup,\n",
    "                  DeviceProtection, TechSupport, StreamingTV, StreamingMovies):\n",
    "    # Perform churn prediction based on the input features\n",
    "    # Replace this with your actual prediction code\n",
    "    prediction = \"Churn prediction\"\n",
    "\n",
    "    return prediction\n",
    "\n",
    "gr.Interface(\n",
    "    fn=predict_churn,\n",
    "    inputs=[gr.inputs.Dropdown(['Female', 'Male'], label='Gender'),\n",
    "            gr.inputs.Dropdown(['Month-to-month', 'One year', 'Two year'], label='Contract'),\n",
    "            gr.inputs.Dropdown(['DSL', 'Fiber optic', 'No'], label='Internet Service'),\n",
    "            gr.Slider(20, 1000, value=20, label='Monthly Charges', info='How much the customer is charged in a month'),\n",
    "            gr.inputs.Radio(['Yes', 'No', 'No internet service'], label=\"Online Security\"),\n",
    "            gr.inputs.Radio(['Yes', 'No', 'No internet service'], label=\"Online Backup\"),\n",
    "            gr.inputs.Radio(['Yes', 'No', 'No internet service'], label=\"Device Protection\"),\n",
    "            gr.inputs.Radio(['Yes', 'No', 'No internet service'], label=\"Tech Support\"),\n",
    "            gr.inputs.Radio(['Yes', 'No', 'No internet service'], label=\"TV Streaming\"),\n",
    "            gr.inputs.Radio(['Yes', 'No', 'No internet service'], label=\"Movie Streaming\")],\n",
    "    outputs=gr.outputs.Label(),\n",
    "    title=\"Customer Churn Prediction App\",\n",
    "    description=\"Let's Get Started With Some Predictions!\"\n",
    ").launch(share=True)\n"
   ]
  },
  {
   "cell_type": "code",
   "execution_count": null,
   "id": "519fe237-6267-47ba-a1dc-457237f3b256",
   "metadata": {},
   "outputs": [],
   "source": []
  }
 ],
 "metadata": {
  "kernelspec": {
   "display_name": "Python 3 (ipykernel)",
   "language": "python",
   "name": "python3"
  },
  "language_info": {
   "codemirror_mode": {
    "name": "ipython",
    "version": 3
   },
   "file_extension": ".py",
   "mimetype": "text/x-python",
   "name": "python",
   "nbconvert_exporter": "python",
   "pygments_lexer": "ipython3",
   "version": "3.10.9"
  }
 },
 "nbformat": 4,
 "nbformat_minor": 5
}
