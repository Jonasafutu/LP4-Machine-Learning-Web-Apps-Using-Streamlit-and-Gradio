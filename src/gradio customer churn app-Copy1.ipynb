{
 "cells": [
  {
   "cell_type": "code",
   "execution_count": null,
   "id": "04374f8e-a24b-450d-90ba-be6ecb5ac713",
   "metadata": {},
   "outputs": [],
   "source": [
    "import gradio as gr\n",
    "import pandas as pd\n",
    "import pickle\n",
    "import os\n",
    "\n",
    "import gradio as gr"
   ]
  },
  {
   "cell_type": "code",
   "execution_count": 5,
   "id": "3771b85a-3185-4da9-a9e3-9c2672623e37",
   "metadata": {},
   "outputs": [
    {
     "name": "stderr",
     "output_type": "stream",
     "text": [
      "C:\\Users\\DEVICES\\anaconda3\\lib\\site-packages\\gradio\\inputs.py:219: UserWarning: Usage of gradio.inputs is deprecated, and will not be supported in the future, please import your component from gradio.components\n",
      "  warnings.warn(\n",
      "C:\\Users\\DEVICES\\anaconda3\\lib\\site-packages\\gradio\\inputs.py:222: UserWarning: `optional` parameter is deprecated, and it has no effect\n",
      "  super().__init__(\n",
      "C:\\Users\\DEVICES\\anaconda3\\lib\\site-packages\\gradio\\inputs.py:185: UserWarning: Usage of gradio.inputs is deprecated, and will not be supported in the future, please import your component from gradio.components\n",
      "  warnings.warn(\n",
      "C:\\Users\\DEVICES\\anaconda3\\lib\\site-packages\\gradio\\inputs.py:188: UserWarning: `optional` parameter is deprecated, and it has no effect\n",
      "  super().__init__(\n",
      "C:\\Users\\DEVICES\\anaconda3\\lib\\site-packages\\gradio\\outputs.py:197: UserWarning: Usage of gradio.outputs is deprecated, and will not be supported in the future, please import your components from gradio.components\n",
      "  warnings.warn(\n",
      "C:\\Users\\DEVICES\\anaconda3\\lib\\site-packages\\gradio\\outputs.py:200: UserWarning: The 'type' parameter has been deprecated. Use the Number component instead.\n",
      "  super().__init__(num_top_classes=num_top_classes, type=type, label=label)\n"
     ]
    },
    {
     "name": "stdout",
     "output_type": "stream",
     "text": [
      "Running on local URL:  http://127.0.0.1:7865\n",
      "Running on public URL: https://43d66ecef43ebefce2.gradio.live\n",
      "\n",
      "This share link expires in 72 hours. For free permanent hosting and GPU upgrades, run `gradio deploy` from Terminal to deploy to Spaces (https://huggingface.co/spaces)\n"
     ]
    },
    {
     "data": {
      "text/html": [
       "<div><iframe src=\"https://43d66ecef43ebefce2.gradio.live\" width=\"100%\" height=\"500\" allow=\"autoplay; camera; microphone; clipboard-read; clipboard-write;\" frameborder=\"0\" allowfullscreen></iframe></div>"
      ],
      "text/plain": [
       "<IPython.core.display.HTML object>"
      ]
     },
     "metadata": {},
     "output_type": "display_data"
    },
    {
     "data": {
      "text/plain": []
     },
     "execution_count": 5,
     "metadata": {},
     "output_type": "execute_result"
    }
   ],
   "source": [
    "# Define function to accept user input for our gradio app\n",
    "def predict_churn(gender, Contract, InternetService, MonthlyCharges,  OnlineSecurity, OnlineBackup,\n",
    "                  DeviceProtection, TechSupport, StreamingTV, StreamingMovies):\n",
    "  \n",
    "    prediction = \"Churn prediction\"\n",
    "\n",
    "    return prediction\n",
    "\n",
    "gr.Interface(\n",
    "    fn=predict_churn,\n",
    "    inputs=[gr.inputs.Dropdown(['Female', 'Male'], label='Gender'),\n",
    "            gr.inputs.Dropdown(['Month-to-month', 'One year', 'Two year'], label='Contract'),\n",
    "            gr.inputs.Dropdown(['DSL', 'Fiber optic', 'No'], label='Internet Service'),\n",
    "            gr.Slider(20, 1000, value=20, label='Monthly Charges', info='How much the customer is charged in a month'),\n",
    "            gr.inputs.Radio(['Yes', 'No', 'No internet service'], label=\"Online Security\"),\n",
    "            gr.inputs.Radio(['Yes', 'No', 'No internet service'], label=\"Online Backup\"),\n",
    "            gr.inputs.Radio(['Yes', 'No', 'No internet service'], label=\"Device Protection\"),\n",
    "            gr.inputs.Radio(['Yes', 'No', 'No internet service'], label=\"Tech Support\"),\n",
    "            gr.inputs.Radio(['Yes', 'No', 'No internet service'], label=\"TV Streaming\"),\n",
    "            gr.inputs.Radio(['Yes', 'No', 'No internet service'], label=\"Movie Streaming\")],\n",
    "    outputs=gr.outputs.Label(),\n",
    "    title=\"Customer Churn Prediction App\",\n",
    "    description=\"Let's Get Started With Some Predictions!\"\n",
    ").launch(share=True)\n"
   ]
  },
  {
   "cell_type": "code",
   "execution_count": 9,
   "id": "81d62a7e-c096-4b42-b4ae-f7d97b9fa61e",
   "metadata": {},
   "outputs": [
    {
     "ename": "FileNotFoundError",
     "evalue": "[Errno 2] No such file or directory: 'pipeline_class.pkl'",
     "output_type": "error",
     "traceback": [
      "\u001b[1;31m---------------------------------------------------------------------------\u001b[0m",
      "\u001b[1;31mFileNotFoundError\u001b[0m                         Traceback (most recent call last)",
      "Cell \u001b[1;32mIn[9], line 6\u001b[0m\n\u001b[0;32m      3\u001b[0m \u001b[38;5;28;01mimport\u001b[39;00m \u001b[38;5;21;01mpickle\u001b[39;00m\n\u001b[0;32m      5\u001b[0m \u001b[38;5;66;03m# Load the trained model\u001b[39;00m\n\u001b[1;32m----> 6\u001b[0m \u001b[38;5;28;01mwith\u001b[39;00m \u001b[38;5;28;43mopen\u001b[39;49m\u001b[43m(\u001b[49m\u001b[38;5;124;43m\"\u001b[39;49m\u001b[38;5;124;43mpipeline_class.pkl\u001b[39;49m\u001b[38;5;124;43m\"\u001b[39;49m\u001b[43m,\u001b[49m\u001b[43m \u001b[49m\u001b[38;5;124;43m\"\u001b[39;49m\u001b[38;5;124;43mrb\u001b[39;49m\u001b[38;5;124;43m\"\u001b[39;49m\u001b[43m)\u001b[49m \u001b[38;5;28;01mas\u001b[39;00m f:\n\u001b[0;32m      7\u001b[0m     model \u001b[38;5;241m=\u001b[39m pickle\u001b[38;5;241m.\u001b[39mload(f)\n\u001b[0;32m      9\u001b[0m \u001b[38;5;66;03m# Define function to make churn predictions\u001b[39;00m\n",
      "File \u001b[1;32m~\\anaconda3\\lib\\site-packages\\IPython\\core\\interactiveshell.py:282\u001b[0m, in \u001b[0;36m_modified_open\u001b[1;34m(file, *args, **kwargs)\u001b[0m\n\u001b[0;32m    275\u001b[0m \u001b[38;5;28;01mif\u001b[39;00m file \u001b[38;5;129;01min\u001b[39;00m {\u001b[38;5;241m0\u001b[39m, \u001b[38;5;241m1\u001b[39m, \u001b[38;5;241m2\u001b[39m}:\n\u001b[0;32m    276\u001b[0m     \u001b[38;5;28;01mraise\u001b[39;00m \u001b[38;5;167;01mValueError\u001b[39;00m(\n\u001b[0;32m    277\u001b[0m         \u001b[38;5;124mf\u001b[39m\u001b[38;5;124m\"\u001b[39m\u001b[38;5;124mIPython won\u001b[39m\u001b[38;5;124m'\u001b[39m\u001b[38;5;124mt let you open fd=\u001b[39m\u001b[38;5;132;01m{\u001b[39;00mfile\u001b[38;5;132;01m}\u001b[39;00m\u001b[38;5;124m by default \u001b[39m\u001b[38;5;124m\"\u001b[39m\n\u001b[0;32m    278\u001b[0m         \u001b[38;5;124m\"\u001b[39m\u001b[38;5;124mas it is likely to crash IPython. If you know what you are doing, \u001b[39m\u001b[38;5;124m\"\u001b[39m\n\u001b[0;32m    279\u001b[0m         \u001b[38;5;124m\"\u001b[39m\u001b[38;5;124myou can use builtins\u001b[39m\u001b[38;5;124m'\u001b[39m\u001b[38;5;124m open.\u001b[39m\u001b[38;5;124m\"\u001b[39m\n\u001b[0;32m    280\u001b[0m     )\n\u001b[1;32m--> 282\u001b[0m \u001b[38;5;28;01mreturn\u001b[39;00m io_open(file, \u001b[38;5;241m*\u001b[39margs, \u001b[38;5;241m*\u001b[39m\u001b[38;5;241m*\u001b[39mkwargs)\n",
      "\u001b[1;31mFileNotFoundError\u001b[0m: [Errno 2] No such file or directory: 'pipeline_class.pkl'"
     ]
    }
   ],
   "source": [
    "import gradio as gr\n",
    "import pandas as pd\n",
    "import pickle\n",
    "\n",
    "# Load the trained model\n",
    "with open(\"pipeline_class.pkl\", \"rb\") as f:\n",
    "    model = pickle.load(f)\n",
    "\n",
    "# Define function to make churn predictions\n",
    "def predict_churn(gender, Contract, InternetService, MonthlyCharges,  OnlineSecurity, OnlineBackup,\n",
    "                  DeviceProtection, TechSupport, StreamingTV, StreamingMovies):\n",
    "    # Create a dictionary with the input values\n",
    "    data = {\n",
    "        \"gender\": [gender],\n",
    "        \"Contract\": [Contract],\n",
    "        \"InternetService\": [InternetService],\n",
    "        \"MonthlyCharges\": [MonthlyCharges],\n",
    "        \"OnlineSecurity\": [OnlineSecurity],\n",
    "        \"OnlineBackup\": [OnlineBackup],\n",
    "        \"DeviceProtection\": [DeviceProtection],\n",
    "        \"TechSupport\": [TechSupport],\n",
    "        \"StreamingTV\": [StreamingTV],\n",
    "        \"StreamingMovies\": [StreamingMovies]\n",
    "    }\n",
    "\n",
    "    # Create a DataFrame from the input data\n",
    "    df = pd.DataFrame(data)\n",
    "\n",
    "    # Make predictions using the loaded model\n",
    "    predictions = model.predict(df)\n",
    "\n",
    "    # Return the prediction result\n",
    "    return predictions[0]\n",
    "\n",
    "# Define the input components for the Gradio app\n",
    "inputs = [\n",
    "    gr.inputs.Dropdown(['Female', 'Male'], label='Gender'),\n",
    "    gr.inputs.Dropdown(['Month-to-month', 'One year', 'Two year'], label='Contract'),\n",
    "    gr.inputs.Dropdown(['DSL', 'Fiber optic', 'No'], label='Internet Service'),\n",
    "    gr.inputs.Slider(20, 1000, label='Monthly Charges', help='How much the customer is charged in a month'),\n",
    "    gr.inputs.Radio(['Yes', 'No', 'No internet service'], label=\"Online Security\"),\n",
    "    gr.inputs.Radio(['Yes', 'No', 'No internet service'], label=\"Online Backup\"),\n",
    "    gr.inputs.Radio(['Yes', 'No', 'No internet service'], label=\"Device Protection\"),\n",
    "    gr.inputs.Radio(['Yes', 'No', 'No internet service'], label=\"Tech Support\"),\n",
    "    gr.inputs.Radio(['Yes', 'No', 'No internet service'], label=\"TV Streaming\"),\n",
    "    gr.inputs.Radio(['Yes', 'No', 'No internet service'], label=\"Movie Streaming\")\n",
    "]\n",
    "\n",
    "# Create the Gradio interface\n",
    "iface = gr.Interface(\n",
    "    fn=predict_churn,\n",
    "    inputs=inputs,\n",
    "    outputs=gr.outputs.Label(),\n",
    "    title=\"Customer Churn Prediction App\",\n",
    "    description=\"Let's Get Started With Some Predictions!\"\n",
    ")\n",
    "\n",
    "# Launch the Gradio interface\n",
    "iface.launch(share=True)\n"
   ]
  },
  {
   "cell_type": "code",
   "execution_count": null,
   "id": "01ff0c54-bd68-4f58-83f9-fab52cabaa7d",
   "metadata": {},
   "outputs": [],
   "source": []
  }
 ],
 "metadata": {
  "kernelspec": {
   "display_name": "Python 3 (ipykernel)",
   "language": "python",
   "name": "python3"
  },
  "language_info": {
   "codemirror_mode": {
    "name": "ipython",
    "version": 3
   },
   "file_extension": ".py",
   "mimetype": "text/x-python",
   "name": "python",
   "nbconvert_exporter": "python",
   "pygments_lexer": "ipython3",
   "version": "3.10.9"
  }
 },
 "nbformat": 4,
 "nbformat_minor": 5
}
